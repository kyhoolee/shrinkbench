{
 "cells": [
  {
   "cell_type": "code",
   "execution_count": 1,
   "metadata": {},
   "outputs": [],
   "source": [
    "import sys\n",
    "sys.path.insert(0, '/home/hongky/project/model_compress/shrinkbench/')\n",
    "from experiment import PruningExperiment\n",
    "import pruning\n",
    "\n",
    "import os\n",
    "os.environ['DATAPATH'] = '/home/hongky/project/model_compress/shrinkbench/data/'\n"
   ]
  },
  {
   "cell_type": "code",
   "execution_count": 12,
   "metadata": {},
   "outputs": [
    {
     "name": "stdout",
     "output_type": "stream",
     "text": [
      "Found CIFAR100 under /home/hongky/project/model_compress/shrinkbench/data/CIFAR100\n",
      "Files already downloaded and verified\n",
      "Found CIFAR100 under /home/hongky/project/model_compress/shrinkbench/data/CIFAR100\n",
      "Files already downloaded and verified\n",
      "Found resnet110_100.th under ../pretrained/cifar100/resnet110_100/resnet110_100.th\n",
      "\u001b[33mRunning {\n",
      "    \"save_freq\": 10,\n",
      "    \"resume_optim\": false,\n",
      "    \"resume\": null,\n",
      "    \"pretrained\": true,\n",
      "    \"debug\": false,\n",
      "    \"train_kwargs\": {\n",
      "        \"optim\": \"SGD\",\n",
      "        \"epochs\": 100,\n",
      "        \"lr\": 0.001\n",
      "    },\n",
      "    \"dl_kwargs\": {\n",
      "        \"batch_size\": 128,\n",
      "        \"pin_memory\": false,\n",
      "        \"num_workers\": 8\n",
      "    },\n",
      "    \"path\": \"/home/hongky/project/model_compress/shrinkbench/pretrained/cifar100/resnet110_100\",\n",
      "    \"seed\": 42,\n",
      "    \"model\": \"resnet110_100\",\n",
      "    \"dataset\": \"CIFAR100\"\n",
      "}\n",
      "\u001b[0m\u001b[95mLogging results to /home/hongky/project/model_compress/shrinkbench/pretrained/cifar100/resnet110_100\n",
      "\u001b[0mType-path:: <class 'str'>\n"
     ]
    },
    {
     "name": "stderr",
     "output_type": "stream",
     "text": [
      "Train Epoch 0/100:   0%|          | 0/391 [00:00<?, ?it/s]"
     ]
    },
    {
     "name": "stdout",
     "output_type": "stream",
     "text": [
      "\u001b[33mStart epoch 0\n",
      "\u001b[0m"
     ]
    },
    {
     "name": "stderr",
     "output_type": "stream",
     "text": [
      "Train Epoch 0/100: 100%|██████████| 391/391 [00:23<00:00, 16.32it/s, loss=0.00905, top1=0.662, top5=0.908]\n",
      "Val Epoch 0/100: 100%|██████████| 79/79 [00:01<00:00, 45.49it/s, loss=0.0145, top1=0.528, top5=0.805]\n",
      "Train Epoch 1/100:   0%|          | 0/391 [00:00<?, ?it/s]"
     ]
    },
    {
     "name": "stdout",
     "output_type": "stream",
     "text": [
      "\u001b[33mStart epoch 1\n",
      "\u001b[0m"
     ]
    },
    {
     "name": "stderr",
     "output_type": "stream",
     "text": [
      "Train Epoch 1/100: 100%|██████████| 391/391 [00:24<00:00, 16.25it/s, loss=0.009, top1=0.665, top5=0.909]  \n",
      "Val Epoch 1/100: 100%|██████████| 79/79 [00:01<00:00, 44.46it/s, loss=0.0146, top1=0.522, top5=0.805]\n",
      "Train Epoch 2/100:   0%|          | 0/391 [00:00<?, ?it/s]"
     ]
    },
    {
     "name": "stdout",
     "output_type": "stream",
     "text": [
      "\u001b[33mStart epoch 2\n",
      "\u001b[0m"
     ]
    },
    {
     "name": "stderr",
     "output_type": "stream",
     "text": [
      "Train Epoch 2/100: 100%|██████████| 391/391 [00:23<00:00, 16.54it/s, loss=0.00892, top1=0.669, top5=0.911]\n",
      "Val Epoch 2/100: 100%|██████████| 79/79 [00:01<00:00, 48.00it/s, loss=0.0149, top1=0.518, top5=0.804]\n",
      "Train Epoch 3/100:   0%|          | 0/391 [00:00<?, ?it/s]"
     ]
    },
    {
     "name": "stdout",
     "output_type": "stream",
     "text": [
      "\u001b[33mStart epoch 3\n",
      "\u001b[0m"
     ]
    },
    {
     "name": "stderr",
     "output_type": "stream",
     "text": [
      "Train Epoch 3/100: 100%|██████████| 391/391 [00:23<00:00, 16.52it/s, loss=0.00883, top1=0.668, top5=0.913]\n",
      "Val Epoch 3/100: 100%|██████████| 79/79 [00:01<00:00, 44.94it/s, loss=0.015, top1=0.52, top5=0.804]  \n",
      "Train Epoch 4/100:   0%|          | 0/391 [00:00<?, ?it/s]"
     ]
    },
    {
     "name": "stdout",
     "output_type": "stream",
     "text": [
      "\u001b[33mStart epoch 4\n",
      "\u001b[0m"
     ]
    },
    {
     "name": "stderr",
     "output_type": "stream",
     "text": [
      "Train Epoch 4/100: 100%|██████████| 391/391 [00:23<00:00, 16.58it/s, loss=0.00876, top1=0.672, top5=0.914]\n",
      "Val Epoch 4/100: 100%|██████████| 79/79 [00:01<00:00, 46.48it/s, loss=0.0148, top1=0.529, top5=0.806]\n",
      "Train Epoch 5/100:   0%|          | 0/391 [00:00<?, ?it/s]"
     ]
    },
    {
     "name": "stdout",
     "output_type": "stream",
     "text": [
      "\u001b[33mStart epoch 5\n",
      "\u001b[0m"
     ]
    },
    {
     "name": "stderr",
     "output_type": "stream",
     "text": [
      "Train Epoch 5/100: 100%|██████████| 391/391 [00:24<00:00, 16.24it/s, loss=0.00867, top1=0.674, top5=0.916]\n",
      "Val Epoch 5/100: 100%|██████████| 79/79 [00:01<00:00, 46.07it/s, loss=0.0147, top1=0.523, top5=0.804]\n",
      "Train Epoch 6/100:   0%|          | 0/391 [00:00<?, ?it/s]"
     ]
    },
    {
     "name": "stdout",
     "output_type": "stream",
     "text": [
      "\u001b[33mStart epoch 6\n",
      "\u001b[0m"
     ]
    },
    {
     "name": "stderr",
     "output_type": "stream",
     "text": [
      "Train Epoch 6/100: 100%|██████████| 391/391 [00:24<00:00, 16.17it/s, loss=0.00855, top1=0.679, top5=0.918]\n",
      "Val Epoch 6/100: 100%|██████████| 79/79 [00:01<00:00, 46.08it/s, loss=0.0148, top1=0.525, top5=0.799]\n",
      "Train Epoch 7/100:   0%|          | 0/391 [00:00<?, ?it/s]"
     ]
    },
    {
     "name": "stdout",
     "output_type": "stream",
     "text": [
      "\u001b[33mStart epoch 7\n",
      "\u001b[0m"
     ]
    },
    {
     "name": "stderr",
     "output_type": "stream",
     "text": [
      "Train Epoch 7/100: 100%|██████████| 391/391 [00:23<00:00, 16.33it/s, loss=0.00849, top1=0.681, top5=0.918]\n",
      "Val Epoch 7/100: 100%|██████████| 79/79 [00:01<00:00, 45.93it/s, loss=0.0147, top1=0.525, top5=0.808]\n",
      "Train Epoch 8/100:   0%|          | 0/391 [00:00<?, ?it/s]"
     ]
    },
    {
     "name": "stdout",
     "output_type": "stream",
     "text": [
      "\u001b[33mStart epoch 8\n",
      "\u001b[0m"
     ]
    },
    {
     "name": "stderr",
     "output_type": "stream",
     "text": [
      "Train Epoch 8/100: 100%|██████████| 391/391 [00:23<00:00, 16.36it/s, loss=0.00844, top1=0.682, top5=0.919]\n",
      "Val Epoch 8/100: 100%|██████████| 79/79 [00:01<00:00, 48.10it/s, loss=0.0147, top1=0.528, top5=0.808]\n",
      "Train Epoch 9/100:   0%|          | 0/391 [00:00<?, ?it/s]"
     ]
    },
    {
     "name": "stdout",
     "output_type": "stream",
     "text": [
      "\u001b[33mStart epoch 9\n",
      "\u001b[0m"
     ]
    },
    {
     "name": "stderr",
     "output_type": "stream",
     "text": [
      "Train Epoch 9/100: 100%|██████████| 391/391 [00:23<00:00, 16.58it/s, loss=0.00839, top1=0.685, top5=0.921]\n",
      "Val Epoch 9/100: 100%|██████████| 79/79 [00:01<00:00, 48.26it/s, loss=0.0146, top1=0.527, top5=0.813]\n",
      "Train Epoch 10/100:   0%|          | 0/391 [00:00<?, ?it/s]"
     ]
    },
    {
     "name": "stdout",
     "output_type": "stream",
     "text": [
      "\u001b[33mStart epoch 10\n",
      "\u001b[0m"
     ]
    },
    {
     "name": "stderr",
     "output_type": "stream",
     "text": [
      "Train Epoch 10/100: 100%|██████████| 391/391 [00:24<00:00, 16.27it/s, loss=0.0083, top1=0.687, top5=0.92]  \n",
      "Val Epoch 10/100: 100%|██████████| 79/79 [00:01<00:00, 47.49it/s, loss=0.015, top1=0.527, top5=0.805] \n",
      "Train Epoch 11/100:   0%|          | 0/391 [00:00<?, ?it/s]"
     ]
    },
    {
     "name": "stdout",
     "output_type": "stream",
     "text": [
      "\u001b[33mStart epoch 11\n",
      "\u001b[0m"
     ]
    },
    {
     "name": "stderr",
     "output_type": "stream",
     "text": [
      "Train Epoch 11/100: 100%|██████████| 391/391 [00:23<00:00, 16.44it/s, loss=0.00825, top1=0.688, top5=0.923]\n",
      "Val Epoch 11/100: 100%|██████████| 79/79 [00:01<00:00, 48.88it/s, loss=0.0155, top1=0.519, top5=0.803]\n",
      "Train Epoch 12/100:   0%|          | 0/391 [00:00<?, ?it/s]"
     ]
    },
    {
     "name": "stdout",
     "output_type": "stream",
     "text": [
      "\u001b[33mStart epoch 12\n",
      "\u001b[0m"
     ]
    },
    {
     "name": "stderr",
     "output_type": "stream",
     "text": [
      "Train Epoch 12/100: 100%|██████████| 391/391 [00:23<00:00, 16.46it/s, loss=0.00808, top1=0.695, top5=0.924]\n",
      "Val Epoch 12/100: 100%|██████████| 79/79 [00:01<00:00, 45.57it/s, loss=0.0149, top1=0.524, top5=0.807]\n",
      "Train Epoch 13/100:   0%|          | 0/391 [00:00<?, ?it/s]"
     ]
    },
    {
     "name": "stdout",
     "output_type": "stream",
     "text": [
      "\u001b[33mStart epoch 13\n",
      "\u001b[0m"
     ]
    },
    {
     "name": "stderr",
     "output_type": "stream",
     "text": [
      "Train Epoch 13/100: 100%|██████████| 391/391 [00:24<00:00, 16.18it/s, loss=0.00801, top1=0.697, top5=0.926]\n",
      "Val Epoch 13/100: 100%|██████████| 79/79 [00:01<00:00, 47.36it/s, loss=0.0152, top1=0.523, top5=0.804]\n",
      "Train Epoch 14/100:   0%|          | 0/391 [00:00<?, ?it/s]"
     ]
    },
    {
     "name": "stdout",
     "output_type": "stream",
     "text": [
      "\u001b[33mStart epoch 14\n",
      "\u001b[0m"
     ]
    },
    {
     "name": "stderr",
     "output_type": "stream",
     "text": [
      "Train Epoch 14/100: 100%|██████████| 391/391 [00:23<00:00, 16.42it/s, loss=0.008, top1=0.697, top5=0.927]  \n",
      "Val Epoch 14/100: 100%|██████████| 79/79 [00:01<00:00, 46.98it/s, loss=0.0151, top1=0.525, top5=0.808]\n",
      "Train Epoch 15/100:   0%|          | 0/391 [00:00<?, ?it/s]"
     ]
    },
    {
     "name": "stdout",
     "output_type": "stream",
     "text": [
      "\u001b[33mStart epoch 15\n",
      "\u001b[0m"
     ]
    },
    {
     "name": "stderr",
     "output_type": "stream",
     "text": [
      "Train Epoch 15/100: 100%|██████████| 391/391 [00:23<00:00, 16.48it/s, loss=0.00785, top1=0.7, top5=0.93]   \n",
      "Val Epoch 15/100: 100%|██████████| 79/79 [00:01<00:00, 48.25it/s, loss=0.0153, top1=0.525, top5=0.806]\n",
      "Train Epoch 16/100:   0%|          | 0/391 [00:00<?, ?it/s]"
     ]
    },
    {
     "name": "stdout",
     "output_type": "stream",
     "text": [
      "\u001b[33mStart epoch 16\n",
      "\u001b[0m"
     ]
    },
    {
     "name": "stderr",
     "output_type": "stream",
     "text": [
      "Train Epoch 16/100: 100%|██████████| 391/391 [00:23<00:00, 16.51it/s, loss=0.00784, top1=0.701, top5=0.928]\n",
      "Val Epoch 16/100: 100%|██████████| 79/79 [00:01<00:00, 48.11it/s, loss=0.0152, top1=0.525, top5=0.807]\n",
      "Train Epoch 17/100:   0%|          | 0/391 [00:00<?, ?it/s]"
     ]
    },
    {
     "name": "stdout",
     "output_type": "stream",
     "text": [
      "\u001b[33mStart epoch 17\n",
      "\u001b[0m"
     ]
    },
    {
     "name": "stderr",
     "output_type": "stream",
     "text": [
      "Train Epoch 17/100: 100%|██████████| 391/391 [00:23<00:00, 16.58it/s, loss=0.00778, top1=0.704, top5=0.929]\n",
      "Val Epoch 17/100: 100%|██████████| 79/79 [00:01<00:00, 48.79it/s, loss=0.0149, top1=0.526, top5=0.809]\n",
      "Train Epoch 18/100:   0%|          | 0/391 [00:00<?, ?it/s]"
     ]
    },
    {
     "name": "stdout",
     "output_type": "stream",
     "text": [
      "\u001b[33mStart epoch 18\n",
      "\u001b[0m"
     ]
    },
    {
     "name": "stderr",
     "output_type": "stream",
     "text": [
      "Train Epoch 18/100: 100%|██████████| 391/391 [00:23<00:00, 16.47it/s, loss=0.00769, top1=0.707, top5=0.931]\n",
      "Val Epoch 18/100: 100%|██████████| 79/79 [00:01<00:00, 48.77it/s, loss=0.0151, top1=0.531, top5=0.81] \n",
      "Train Epoch 19/100:   0%|          | 0/391 [00:00<?, ?it/s]"
     ]
    },
    {
     "name": "stdout",
     "output_type": "stream",
     "text": [
      "\u001b[33mStart epoch 19\n",
      "\u001b[0m"
     ]
    },
    {
     "name": "stderr",
     "output_type": "stream",
     "text": [
      "Train Epoch 19/100: 100%|██████████| 391/391 [00:23<00:00, 16.47it/s, loss=0.00761, top1=0.711, top5=0.933]\n",
      "Val Epoch 19/100: 100%|██████████| 79/79 [00:01<00:00, 47.01it/s, loss=0.0154, top1=0.527, top5=0.804]\n",
      "Train Epoch 20/100:   0%|          | 0/391 [00:00<?, ?it/s]"
     ]
    },
    {
     "name": "stdout",
     "output_type": "stream",
     "text": [
      "\u001b[33mStart epoch 20\n",
      "\u001b[0m"
     ]
    },
    {
     "name": "stderr",
     "output_type": "stream",
     "text": [
      "Train Epoch 20/100: 100%|██████████| 391/391 [00:24<00:00, 16.23it/s, loss=0.00757, top1=0.713, top5=0.933]\n",
      "Val Epoch 20/100: 100%|██████████| 79/79 [00:01<00:00, 48.57it/s, loss=0.0151, top1=0.532, top5=0.808]\n",
      "Train Epoch 21/100:   0%|          | 0/391 [00:00<?, ?it/s]"
     ]
    },
    {
     "name": "stdout",
     "output_type": "stream",
     "text": [
      "\u001b[33mStart epoch 21\n",
      "\u001b[0m"
     ]
    },
    {
     "name": "stderr",
     "output_type": "stream",
     "text": [
      "Train Epoch 21/100: 100%|██████████| 391/391 [00:23<00:00, 16.44it/s, loss=0.00749, top1=0.712, top5=0.934]\n",
      "Val Epoch 21/100: 100%|██████████| 79/79 [00:01<00:00, 47.19it/s, loss=0.015, top1=0.537, top5=0.81]  \n",
      "Train Epoch 22/100:   0%|          | 0/391 [00:00<?, ?it/s]"
     ]
    },
    {
     "name": "stdout",
     "output_type": "stream",
     "text": [
      "\u001b[33mStart epoch 22\n",
      "\u001b[0m"
     ]
    },
    {
     "name": "stderr",
     "output_type": "stream",
     "text": [
      "Train Epoch 22/100: 100%|██████████| 391/391 [00:23<00:00, 16.41it/s, loss=0.00741, top1=0.715, top5=0.937]\n",
      "Val Epoch 22/100: 100%|██████████| 79/79 [00:01<00:00, 48.40it/s, loss=0.0148, top1=0.535, top5=0.811]\n",
      "Train Epoch 23/100:   0%|          | 0/391 [00:00<?, ?it/s]"
     ]
    },
    {
     "name": "stdout",
     "output_type": "stream",
     "text": [
      "\u001b[33mStart epoch 23\n",
      "\u001b[0m"
     ]
    },
    {
     "name": "stderr",
     "output_type": "stream",
     "text": [
      "Train Epoch 23/100: 100%|██████████| 391/391 [00:23<00:00, 16.34it/s, loss=0.00732, top1=0.72, top5=0.937] \n",
      "Val Epoch 23/100: 100%|██████████| 79/79 [00:01<00:00, 48.53it/s, loss=0.0156, top1=0.529, top5=0.807]\n",
      "Train Epoch 24/100:   0%|          | 0/391 [00:00<?, ?it/s]"
     ]
    },
    {
     "name": "stdout",
     "output_type": "stream",
     "text": [
      "\u001b[33mStart epoch 24\n",
      "\u001b[0m"
     ]
    },
    {
     "name": "stderr",
     "output_type": "stream",
     "text": [
      "Train Epoch 24/100: 100%|██████████| 391/391 [00:23<00:00, 16.58it/s, loss=0.00728, top1=0.722, top5=0.938]\n",
      "Val Epoch 24/100: 100%|██████████| 79/79 [00:01<00:00, 48.37it/s, loss=0.0147, top1=0.537, top5=0.815]\n",
      "Train Epoch 25/100:   0%|          | 0/391 [00:00<?, ?it/s]"
     ]
    },
    {
     "name": "stdout",
     "output_type": "stream",
     "text": [
      "\u001b[33mStart epoch 25\n",
      "\u001b[0m"
     ]
    },
    {
     "name": "stderr",
     "output_type": "stream",
     "text": [
      "Train Epoch 25/100: 100%|██████████| 391/391 [00:23<00:00, 16.69it/s, loss=0.0072, top1=0.725, top5=0.939] \n",
      "Val Epoch 25/100: 100%|██████████| 79/79 [00:01<00:00, 47.39it/s, loss=0.0149, top1=0.533, top5=0.81] \n",
      "Train Epoch 26/100:   0%|          | 0/391 [00:00<?, ?it/s]"
     ]
    },
    {
     "name": "stdout",
     "output_type": "stream",
     "text": [
      "\u001b[33mStart epoch 26\n",
      "\u001b[0m"
     ]
    },
    {
     "name": "stderr",
     "output_type": "stream",
     "text": [
      "Train Epoch 26/100: 100%|██████████| 391/391 [00:23<00:00, 16.56it/s, loss=0.00714, top1=0.727, top5=0.939]\n",
      "Val Epoch 26/100: 100%|██████████| 79/79 [00:01<00:00, 48.51it/s, loss=0.015, top1=0.536, top5=0.813] \n",
      "Train Epoch 27/100:   0%|          | 0/391 [00:00<?, ?it/s]"
     ]
    },
    {
     "name": "stdout",
     "output_type": "stream",
     "text": [
      "\u001b[33mStart epoch 27\n",
      "\u001b[0m"
     ]
    },
    {
     "name": "stderr",
     "output_type": "stream",
     "text": [
      "Train Epoch 27/100: 100%|██████████| 391/391 [00:23<00:00, 16.45it/s, loss=0.00705, top1=0.728, top5=0.942]\n",
      "Val Epoch 27/100: 100%|██████████| 79/79 [00:01<00:00, 48.90it/s, loss=0.0161, top1=0.527, top5=0.81] \n",
      "Train Epoch 28/100:   0%|          | 0/391 [00:00<?, ?it/s]"
     ]
    },
    {
     "name": "stdout",
     "output_type": "stream",
     "text": [
      "\u001b[33mStart epoch 28\n",
      "\u001b[0m"
     ]
    },
    {
     "name": "stderr",
     "output_type": "stream",
     "text": [
      "Train Epoch 28/100: 100%|██████████| 391/391 [00:23<00:00, 16.65it/s, loss=0.00697, top1=0.731, top5=0.943]\n",
      "Val Epoch 28/100: 100%|██████████| 79/79 [00:01<00:00, 48.60it/s, loss=0.0157, top1=0.53, top5=0.805] \n",
      "Train Epoch 29/100:   0%|          | 0/391 [00:00<?, ?it/s]"
     ]
    },
    {
     "name": "stdout",
     "output_type": "stream",
     "text": [
      "\u001b[33mStart epoch 29\n",
      "\u001b[0m"
     ]
    },
    {
     "name": "stderr",
     "output_type": "stream",
     "text": [
      "Train Epoch 29/100: 100%|██████████| 391/391 [00:23<00:00, 16.58it/s, loss=0.00691, top1=0.732, top5=0.943]\n",
      "Val Epoch 29/100: 100%|██████████| 79/79 [00:01<00:00, 48.44it/s, loss=0.0154, top1=0.535, top5=0.808]\n",
      "Train Epoch 30/100:   0%|          | 0/391 [00:00<?, ?it/s]"
     ]
    },
    {
     "name": "stdout",
     "output_type": "stream",
     "text": [
      "\u001b[33mStart epoch 30\n",
      "\u001b[0m"
     ]
    },
    {
     "name": "stderr",
     "output_type": "stream",
     "text": [
      "Train Epoch 30/100: 100%|██████████| 391/391 [00:23<00:00, 16.70it/s, loss=0.0068, top1=0.74, top5=0.945]  \n",
      "Val Epoch 30/100: 100%|██████████| 79/79 [00:01<00:00, 48.19it/s, loss=0.0156, top1=0.53, top5=0.806] \n",
      "Train Epoch 31/100:   0%|          | 0/391 [00:00<?, ?it/s]"
     ]
    },
    {
     "name": "stdout",
     "output_type": "stream",
     "text": [
      "\u001b[33mStart epoch 31\n",
      "\u001b[0m"
     ]
    },
    {
     "name": "stderr",
     "output_type": "stream",
     "text": [
      "Train Epoch 31/100: 100%|██████████| 391/391 [00:23<00:00, 16.62it/s, loss=0.00678, top1=0.737, top5=0.947]\n",
      "Val Epoch 31/100: 100%|██████████| 79/79 [00:01<00:00, 47.61it/s, loss=0.0154, top1=0.534, top5=0.813]\n",
      "Train Epoch 32/100:   0%|          | 0/391 [00:00<?, ?it/s]"
     ]
    },
    {
     "name": "stdout",
     "output_type": "stream",
     "text": [
      "\u001b[33mStart epoch 32\n",
      "\u001b[0m"
     ]
    },
    {
     "name": "stderr",
     "output_type": "stream",
     "text": [
      "Train Epoch 32/100: 100%|██████████| 391/391 [00:23<00:00, 16.76it/s, loss=0.00678, top1=0.738, top5=0.945]\n",
      "Val Epoch 32/100: 100%|██████████| 79/79 [00:01<00:00, 49.02it/s, loss=0.0153, top1=0.535, top5=0.807]\n",
      "Train Epoch 33/100:   0%|          | 0/391 [00:00<?, ?it/s]"
     ]
    },
    {
     "name": "stdout",
     "output_type": "stream",
     "text": [
      "\u001b[33mStart epoch 33\n",
      "\u001b[0m"
     ]
    },
    {
     "name": "stderr",
     "output_type": "stream",
     "text": [
      "Train Epoch 33/100: 100%|██████████| 391/391 [00:23<00:00, 16.72it/s, loss=0.00661, top1=0.743, top5=0.948]\n",
      "Val Epoch 33/100: 100%|██████████| 79/79 [00:01<00:00, 46.40it/s, loss=0.0155, top1=0.536, top5=0.809]\n",
      "Train Epoch 34/100:   0%|          | 0/391 [00:00<?, ?it/s]"
     ]
    },
    {
     "name": "stdout",
     "output_type": "stream",
     "text": [
      "\u001b[33mStart epoch 34\n",
      "\u001b[0m"
     ]
    },
    {
     "name": "stderr",
     "output_type": "stream",
     "text": [
      "Train Epoch 34/100: 100%|██████████| 391/391 [00:23<00:00, 16.67it/s, loss=0.00658, top1=0.744, top5=0.948]\n",
      "Val Epoch 34/100: 100%|██████████| 79/79 [00:01<00:00, 49.65it/s, loss=0.0153, top1=0.542, top5=0.812]\n",
      "Train Epoch 35/100:   0%|          | 0/391 [00:00<?, ?it/s]"
     ]
    },
    {
     "name": "stdout",
     "output_type": "stream",
     "text": [
      "\u001b[33mStart epoch 35\n",
      "\u001b[0m"
     ]
    },
    {
     "name": "stderr",
     "output_type": "stream",
     "text": [
      "Train Epoch 35/100: 100%|██████████| 391/391 [00:23<00:00, 16.92it/s, loss=0.00653, top1=0.747, top5=0.95] \n",
      "Val Epoch 35/100: 100%|██████████| 79/79 [00:01<00:00, 49.95it/s, loss=0.0154, top1=0.531, top5=0.804]\n",
      "Train Epoch 36/100:   0%|          | 0/391 [00:00<?, ?it/s]"
     ]
    },
    {
     "name": "stdout",
     "output_type": "stream",
     "text": [
      "\u001b[33mStart epoch 36\n",
      "\u001b[0m"
     ]
    },
    {
     "name": "stderr",
     "output_type": "stream",
     "text": [
      "Train Epoch 36/100: 100%|██████████| 391/391 [00:23<00:00, 16.64it/s, loss=0.00651, top1=0.746, top5=0.951]\n",
      "Val Epoch 36/100: 100%|██████████| 79/79 [00:01<00:00, 46.45it/s, loss=0.0154, top1=0.54, top5=0.811] \n",
      "Train Epoch 37/100:   0%|          | 0/391 [00:00<?, ?it/s]"
     ]
    },
    {
     "name": "stdout",
     "output_type": "stream",
     "text": [
      "\u001b[33mStart epoch 37\n",
      "\u001b[0m"
     ]
    },
    {
     "name": "stderr",
     "output_type": "stream",
     "text": [
      "Train Epoch 37/100: 100%|██████████| 391/391 [00:23<00:00, 16.91it/s, loss=0.00642, top1=0.754, top5=0.951]\n",
      "Val Epoch 37/100: 100%|██████████| 79/79 [00:01<00:00, 46.23it/s, loss=0.0154, top1=0.542, top5=0.813]\n",
      "Train Epoch 38/100:   0%|          | 0/391 [00:00<?, ?it/s]"
     ]
    },
    {
     "name": "stdout",
     "output_type": "stream",
     "text": [
      "\u001b[33mStart epoch 38\n",
      "\u001b[0m"
     ]
    },
    {
     "name": "stderr",
     "output_type": "stream",
     "text": [
      "Train Epoch 38/100: 100%|██████████| 391/391 [00:23<00:00, 16.46it/s, loss=0.00637, top1=0.754, top5=0.952]\n",
      "Val Epoch 38/100: 100%|██████████| 79/79 [00:01<00:00, 49.73it/s, loss=0.0157, top1=0.534, top5=0.812]\n",
      "Train Epoch 39/100:   0%|          | 0/391 [00:00<?, ?it/s]"
     ]
    },
    {
     "name": "stdout",
     "output_type": "stream",
     "text": [
      "\u001b[33mStart epoch 39\n",
      "\u001b[0m"
     ]
    },
    {
     "name": "stderr",
     "output_type": "stream",
     "text": [
      "Train Epoch 39/100: 100%|██████████| 391/391 [00:23<00:00, 16.89it/s, loss=0.00627, top1=0.755, top5=0.953]\n",
      "Val Epoch 39/100: 100%|██████████| 79/79 [00:01<00:00, 49.57it/s, loss=0.016, top1=0.531, top5=0.815] \n",
      "Train Epoch 40/100:   0%|          | 0/391 [00:00<?, ?it/s]"
     ]
    },
    {
     "name": "stdout",
     "output_type": "stream",
     "text": [
      "\u001b[33mStart epoch 40\n",
      "\u001b[0m"
     ]
    },
    {
     "name": "stderr",
     "output_type": "stream",
     "text": [
      "Train Epoch 40/100: 100%|██████████| 391/391 [00:23<00:00, 16.78it/s, loss=0.00625, top1=0.758, top5=0.953]\n",
      "Val Epoch 40/100: 100%|██████████| 79/79 [00:01<00:00, 46.23it/s, loss=0.0154, top1=0.543, top5=0.816]\n",
      "Train Epoch 41/100:   0%|          | 0/391 [00:00<?, ?it/s]"
     ]
    },
    {
     "name": "stdout",
     "output_type": "stream",
     "text": [
      "\u001b[33mStart epoch 41\n",
      "\u001b[0m"
     ]
    },
    {
     "name": "stderr",
     "output_type": "stream",
     "text": [
      "Train Epoch 41/100: 100%|██████████| 391/391 [00:23<00:00, 16.64it/s, loss=0.00614, top1=0.76, top5=0.955] \n",
      "Val Epoch 41/100: 100%|██████████| 79/79 [00:01<00:00, 49.62it/s, loss=0.0165, top1=0.525, top5=0.809]\n",
      "Train Epoch 42/100:   0%|          | 0/391 [00:00<?, ?it/s]"
     ]
    },
    {
     "name": "stdout",
     "output_type": "stream",
     "text": [
      "\u001b[33mStart epoch 42\n",
      "\u001b[0m"
     ]
    },
    {
     "name": "stderr",
     "output_type": "stream",
     "text": [
      "Train Epoch 42/100: 100%|██████████| 391/391 [00:23<00:00, 16.73it/s, loss=0.00611, top1=0.76, top5=0.955] \n",
      "Val Epoch 42/100: 100%|██████████| 79/79 [00:01<00:00, 49.55it/s, loss=0.0155, top1=0.539, top5=0.816]\n",
      "Train Epoch 43/100:   0%|          | 0/391 [00:00<?, ?it/s]"
     ]
    },
    {
     "name": "stdout",
     "output_type": "stream",
     "text": [
      "\u001b[33mStart epoch 43\n",
      "\u001b[0m"
     ]
    },
    {
     "name": "stderr",
     "output_type": "stream",
     "text": [
      "Train Epoch 43/100: 100%|██████████| 391/391 [00:23<00:00, 16.84it/s, loss=0.0061, top1=0.762, top5=0.956] \n",
      "Val Epoch 43/100: 100%|██████████| 79/79 [00:01<00:00, 48.63it/s, loss=0.0161, top1=0.537, top5=0.82] \n",
      "Train Epoch 44/100:   0%|          | 0/391 [00:00<?, ?it/s]"
     ]
    },
    {
     "name": "stdout",
     "output_type": "stream",
     "text": [
      "\u001b[33mStart epoch 44\n",
      "\u001b[0m"
     ]
    },
    {
     "name": "stderr",
     "output_type": "stream",
     "text": [
      "Train Epoch 44/100: 100%|██████████| 391/391 [00:23<00:00, 16.88it/s, loss=0.00596, top1=0.766, top5=0.957]\n",
      "Val Epoch 44/100: 100%|██████████| 79/79 [00:01<00:00, 49.39it/s, loss=0.0159, top1=0.535, top5=0.812]\n",
      "Train Epoch 45/100:   0%|          | 0/391 [00:00<?, ?it/s]"
     ]
    },
    {
     "name": "stdout",
     "output_type": "stream",
     "text": [
      "\u001b[33mStart epoch 45\n",
      "\u001b[0m"
     ]
    },
    {
     "name": "stderr",
     "output_type": "stream",
     "text": [
      "Train Epoch 45/100: 100%|██████████| 391/391 [00:23<00:00, 16.48it/s, loss=0.00591, top1=0.767, top5=0.958]\n",
      "Val Epoch 45/100: 100%|██████████| 79/79 [00:01<00:00, 49.15it/s, loss=0.0162, top1=0.531, top5=0.807]\n",
      "Train Epoch 46/100:   0%|          | 0/391 [00:00<?, ?it/s]"
     ]
    },
    {
     "name": "stdout",
     "output_type": "stream",
     "text": [
      "\u001b[33mStart epoch 46\n",
      "\u001b[0m"
     ]
    },
    {
     "name": "stderr",
     "output_type": "stream",
     "text": [
      "Train Epoch 46/100: 100%|██████████| 391/391 [00:23<00:00, 16.91it/s, loss=0.00586, top1=0.772, top5=0.959]\n",
      "Val Epoch 46/100: 100%|██████████| 79/79 [00:01<00:00, 48.88it/s, loss=0.0161, top1=0.527, top5=0.807]\n",
      "Train Epoch 47/100:   0%|          | 0/391 [00:00<?, ?it/s]"
     ]
    },
    {
     "name": "stdout",
     "output_type": "stream",
     "text": [
      "\u001b[33mStart epoch 47\n",
      "\u001b[0m"
     ]
    },
    {
     "name": "stderr",
     "output_type": "stream",
     "text": [
      "Train Epoch 47/100: 100%|██████████| 391/391 [00:22<00:00, 17.02it/s, loss=0.00584, top1=0.771, top5=0.96] \n",
      "Val Epoch 47/100: 100%|██████████| 79/79 [00:01<00:00, 49.12it/s, loss=0.0162, top1=0.533, top5=0.808]\n",
      "Train Epoch 48/100:   0%|          | 0/391 [00:00<?, ?it/s]"
     ]
    },
    {
     "name": "stdout",
     "output_type": "stream",
     "text": [
      "\u001b[33mStart epoch 48\n",
      "\u001b[0m"
     ]
    },
    {
     "name": "stderr",
     "output_type": "stream",
     "text": [
      "Train Epoch 48/100: 100%|██████████| 391/391 [00:22<00:00, 17.03it/s, loss=0.00574, top1=0.774, top5=0.96] \n",
      "Val Epoch 48/100: 100%|██████████| 79/79 [00:01<00:00, 50.02it/s, loss=0.016, top1=0.54, top5=0.817]  \n",
      "Train Epoch 49/100:   0%|          | 0/391 [00:00<?, ?it/s]"
     ]
    },
    {
     "name": "stdout",
     "output_type": "stream",
     "text": [
      "\u001b[33mStart epoch 49\n",
      "\u001b[0m"
     ]
    },
    {
     "name": "stderr",
     "output_type": "stream",
     "text": [
      "Train Epoch 49/100: 100%|██████████| 391/391 [00:23<00:00, 16.93it/s, loss=0.00571, top1=0.774, top5=0.961]\n",
      "Val Epoch 49/100: 100%|██████████| 79/79 [00:01<00:00, 49.95it/s, loss=0.0163, top1=0.532, top5=0.808]\n",
      "Train Epoch 50/100:   0%|          | 0/391 [00:00<?, ?it/s]"
     ]
    },
    {
     "name": "stdout",
     "output_type": "stream",
     "text": [
      "\u001b[33mStart epoch 50\n",
      "\u001b[0m"
     ]
    },
    {
     "name": "stderr",
     "output_type": "stream",
     "text": [
      "Train Epoch 50/100: 100%|██████████| 391/391 [00:23<00:00, 16.88it/s, loss=0.00566, top1=0.777, top5=0.962]\n",
      "Val Epoch 50/100: 100%|██████████| 79/79 [00:01<00:00, 49.02it/s, loss=0.016, top1=0.545, top5=0.816] \n",
      "Train Epoch 51/100:   0%|          | 0/391 [00:00<?, ?it/s]"
     ]
    },
    {
     "name": "stdout",
     "output_type": "stream",
     "text": [
      "\u001b[33mStart epoch 51\n",
      "\u001b[0m"
     ]
    },
    {
     "name": "stderr",
     "output_type": "stream",
     "text": [
      "Train Epoch 51/100: 100%|██████████| 391/391 [00:23<00:00, 16.55it/s, loss=0.00561, top1=0.778, top5=0.963]\n",
      "Val Epoch 51/100: 100%|██████████| 79/79 [00:01<00:00, 49.09it/s, loss=0.0159, top1=0.54, top5=0.819] \n",
      "Train Epoch 52/100:   0%|          | 0/391 [00:00<?, ?it/s]"
     ]
    },
    {
     "name": "stdout",
     "output_type": "stream",
     "text": [
      "\u001b[33mStart epoch 52\n",
      "\u001b[0m"
     ]
    },
    {
     "name": "stderr",
     "output_type": "stream",
     "text": [
      "Train Epoch 52/100: 100%|██████████| 391/391 [00:23<00:00, 16.86it/s, loss=0.00555, top1=0.782, top5=0.963]\n",
      "Val Epoch 52/100: 100%|██████████| 79/79 [00:01<00:00, 49.79it/s, loss=0.0169, top1=0.527, top5=0.806]\n",
      "Train Epoch 53/100:   0%|          | 0/391 [00:00<?, ?it/s]"
     ]
    },
    {
     "name": "stdout",
     "output_type": "stream",
     "text": [
      "\u001b[33mStart epoch 53\n",
      "\u001b[0m"
     ]
    },
    {
     "name": "stderr",
     "output_type": "stream",
     "text": [
      "Train Epoch 53/100: 100%|██████████| 391/391 [00:22<00:00, 17.02it/s, loss=0.00549, top1=0.782, top5=0.965]\n",
      "Val Epoch 53/100: 100%|██████████| 79/79 [00:01<00:00, 50.04it/s, loss=0.0168, top1=0.529, top5=0.801]\n",
      "Train Epoch 54/100:   0%|          | 0/391 [00:00<?, ?it/s]"
     ]
    },
    {
     "name": "stdout",
     "output_type": "stream",
     "text": [
      "\u001b[33mStart epoch 54\n",
      "\u001b[0m"
     ]
    },
    {
     "name": "stderr",
     "output_type": "stream",
     "text": [
      "Train Epoch 54/100: 100%|██████████| 391/391 [00:23<00:00, 16.98it/s, loss=0.00541, top1=0.787, top5=0.965]\n",
      "Val Epoch 54/100: 100%|██████████| 79/79 [00:01<00:00, 49.56it/s, loss=0.0163, top1=0.54, top5=0.812] \n",
      "Train Epoch 55/100:   0%|          | 0/391 [00:00<?, ?it/s]"
     ]
    },
    {
     "name": "stdout",
     "output_type": "stream",
     "text": [
      "\u001b[33mStart epoch 55\n",
      "\u001b[0m"
     ]
    },
    {
     "name": "stderr",
     "output_type": "stream",
     "text": [
      "Train Epoch 55/100: 100%|██████████| 391/391 [00:22<00:00, 17.03it/s, loss=0.00539, top1=0.787, top5=0.966]\n",
      "Val Epoch 55/100: 100%|██████████| 79/79 [00:01<00:00, 47.67it/s, loss=0.0162, top1=0.538, top5=0.812]\n",
      "Train Epoch 56/100:   0%|          | 0/391 [00:00<?, ?it/s]"
     ]
    },
    {
     "name": "stdout",
     "output_type": "stream",
     "text": [
      "\u001b[33mStart epoch 56\n",
      "\u001b[0m"
     ]
    },
    {
     "name": "stderr",
     "output_type": "stream",
     "text": [
      "Train Epoch 56/100: 100%|██████████| 391/391 [00:23<00:00, 16.82it/s, loss=0.00531, top1=0.789, top5=0.966]\n",
      "Val Epoch 56/100: 100%|██████████| 79/79 [00:01<00:00, 46.93it/s, loss=0.0163, top1=0.539, top5=0.813]\n",
      "Train Epoch 57/100:   0%|          | 0/391 [00:00<?, ?it/s]"
     ]
    },
    {
     "name": "stdout",
     "output_type": "stream",
     "text": [
      "\u001b[33mStart epoch 57\n",
      "\u001b[0m"
     ]
    },
    {
     "name": "stderr",
     "output_type": "stream",
     "text": [
      "Train Epoch 57/100: 100%|██████████| 391/391 [00:23<00:00, 16.58it/s, loss=0.00525, top1=0.791, top5=0.967]\n",
      "Val Epoch 57/100: 100%|██████████| 79/79 [00:01<00:00, 50.05it/s, loss=0.0173, top1=0.53, top5=0.808] \n",
      "Train Epoch 58/100:   0%|          | 0/391 [00:00<?, ?it/s]"
     ]
    },
    {
     "name": "stdout",
     "output_type": "stream",
     "text": [
      "\u001b[33mStart epoch 58\n",
      "\u001b[0m"
     ]
    },
    {
     "name": "stderr",
     "output_type": "stream",
     "text": [
      "Train Epoch 58/100: 100%|██████████| 391/391 [00:23<00:00, 16.93it/s, loss=0.00521, top1=0.794, top5=0.969]\n",
      "Val Epoch 58/100: 100%|██████████| 79/79 [00:01<00:00, 50.16it/s, loss=0.0171, top1=0.532, top5=0.804]\n",
      "Train Epoch 59/100:   0%|          | 0/391 [00:00<?, ?it/s]"
     ]
    },
    {
     "name": "stdout",
     "output_type": "stream",
     "text": [
      "\u001b[33mStart epoch 59\n",
      "\u001b[0m"
     ]
    },
    {
     "name": "stderr",
     "output_type": "stream",
     "text": [
      "Train Epoch 59/100: 100%|██████████| 391/391 [00:22<00:00, 17.07it/s, loss=0.00517, top1=0.797, top5=0.968]\n",
      "Val Epoch 59/100: 100%|██████████| 79/79 [00:01<00:00, 49.52it/s, loss=0.0166, top1=0.536, top5=0.812]\n",
      "Train Epoch 60/100:   0%|          | 0/391 [00:00<?, ?it/s]"
     ]
    },
    {
     "name": "stdout",
     "output_type": "stream",
     "text": [
      "\u001b[33mStart epoch 60\n",
      "\u001b[0m"
     ]
    },
    {
     "name": "stderr",
     "output_type": "stream",
     "text": [
      "Train Epoch 60/100: 100%|██████████| 391/391 [00:23<00:00, 16.95it/s, loss=0.00513, top1=0.795, top5=0.969]\n",
      "Val Epoch 60/100: 100%|██████████| 79/79 [00:01<00:00, 49.91it/s, loss=0.0165, top1=0.528, top5=0.81] \n",
      "Train Epoch 61/100:   0%|          | 0/391 [00:00<?, ?it/s]"
     ]
    },
    {
     "name": "stdout",
     "output_type": "stream",
     "text": [
      "\u001b[33mStart epoch 61\n",
      "\u001b[0m"
     ]
    },
    {
     "name": "stderr",
     "output_type": "stream",
     "text": [
      "Train Epoch 61/100: 100%|██████████| 391/391 [00:23<00:00, 16.92it/s, loss=0.00511, top1=0.796, top5=0.969]\n",
      "Val Epoch 61/100: 100%|██████████| 79/79 [00:01<00:00, 49.13it/s, loss=0.0167, top1=0.538, top5=0.815]\n",
      "Train Epoch 62/100:   0%|          | 0/391 [00:00<?, ?it/s]"
     ]
    },
    {
     "name": "stdout",
     "output_type": "stream",
     "text": [
      "\u001b[33mStart epoch 62\n",
      "\u001b[0m"
     ]
    },
    {
     "name": "stderr",
     "output_type": "stream",
     "text": [
      "Train Epoch 62/100: 100%|██████████| 391/391 [00:23<00:00, 16.89it/s, loss=0.00501, top1=0.799, top5=0.97] \n",
      "Val Epoch 62/100: 100%|██████████| 79/79 [00:01<00:00, 46.35it/s, loss=0.0168, top1=0.54, top5=0.81]  \n",
      "Train Epoch 63/100:   0%|          | 0/391 [00:00<?, ?it/s]"
     ]
    },
    {
     "name": "stdout",
     "output_type": "stream",
     "text": [
      "\u001b[33mStart epoch 63\n",
      "\u001b[0m"
     ]
    },
    {
     "name": "stderr",
     "output_type": "stream",
     "text": [
      "Train Epoch 63/100: 100%|██████████| 391/391 [00:23<00:00, 16.88it/s, loss=0.00487, top1=0.808, top5=0.973]\n",
      "Val Epoch 63/100: 100%|██████████| 79/79 [00:01<00:00, 49.72it/s, loss=0.0173, top1=0.53, top5=0.809] \n",
      "Train Epoch 64/100:   0%|          | 0/391 [00:00<?, ?it/s]"
     ]
    },
    {
     "name": "stdout",
     "output_type": "stream",
     "text": [
      "\u001b[33mStart epoch 64\n",
      "\u001b[0m"
     ]
    },
    {
     "name": "stderr",
     "output_type": "stream",
     "text": [
      "Train Epoch 64/100: 100%|██████████| 391/391 [00:23<00:00, 16.97it/s, loss=0.00488, top1=0.804, top5=0.973]\n",
      "Val Epoch 64/100: 100%|██████████| 79/79 [00:01<00:00, 49.98it/s, loss=0.0174, top1=0.529, top5=0.809]\n",
      "Train Epoch 65/100:   0%|          | 0/391 [00:00<?, ?it/s]"
     ]
    },
    {
     "name": "stdout",
     "output_type": "stream",
     "text": [
      "\u001b[33mStart epoch 65\n",
      "\u001b[0m"
     ]
    },
    {
     "name": "stderr",
     "output_type": "stream",
     "text": [
      "Train Epoch 65/100: 100%|██████████| 391/391 [00:22<00:00, 17.03it/s, loss=0.00488, top1=0.804, top5=0.972]\n",
      "Val Epoch 65/100: 100%|██████████| 79/79 [00:01<00:00, 50.32it/s, loss=0.0167, top1=0.54, top5=0.814] \n",
      "Train Epoch 66/100:   0%|          | 0/391 [00:00<?, ?it/s]"
     ]
    },
    {
     "name": "stdout",
     "output_type": "stream",
     "text": [
      "\u001b[33mStart epoch 66\n",
      "\u001b[0m"
     ]
    },
    {
     "name": "stderr",
     "output_type": "stream",
     "text": [
      "Train Epoch 66/100: 100%|██████████| 391/391 [00:22<00:00, 17.07it/s, loss=0.00481, top1=0.808, top5=0.973]\n",
      "Val Epoch 66/100: 100%|██████████| 79/79 [00:01<00:00, 49.55it/s, loss=0.0172, top1=0.535, top5=0.804]\n",
      "Train Epoch 67/100:   0%|          | 0/391 [00:00<?, ?it/s]"
     ]
    },
    {
     "name": "stdout",
     "output_type": "stream",
     "text": [
      "\u001b[33mStart epoch 67\n",
      "\u001b[0m"
     ]
    },
    {
     "name": "stderr",
     "output_type": "stream",
     "text": [
      "Train Epoch 67/100: 100%|██████████| 391/391 [00:23<00:00, 16.95it/s, loss=0.00479, top1=0.81, top5=0.972] \n",
      "Val Epoch 67/100: 100%|██████████| 79/79 [00:01<00:00, 49.60it/s, loss=0.0172, top1=0.532, top5=0.804]\n",
      "Train Epoch 68/100:   0%|          | 0/391 [00:00<?, ?it/s]"
     ]
    },
    {
     "name": "stdout",
     "output_type": "stream",
     "text": [
      "\u001b[33mStart epoch 68\n",
      "\u001b[0m"
     ]
    },
    {
     "name": "stderr",
     "output_type": "stream",
     "text": [
      "Train Epoch 68/100: 100%|██████████| 391/391 [00:23<00:00, 16.77it/s, loss=0.0047, top1=0.813, top5=0.974] \n",
      "Val Epoch 68/100: 100%|██████████| 79/79 [00:01<00:00, 49.19it/s, loss=0.0171, top1=0.537, top5=0.811]\n",
      "Train Epoch 69/100:   0%|          | 0/391 [00:00<?, ?it/s]"
     ]
    },
    {
     "name": "stdout",
     "output_type": "stream",
     "text": [
      "\u001b[33mStart epoch 69\n",
      "\u001b[0m"
     ]
    },
    {
     "name": "stderr",
     "output_type": "stream",
     "text": [
      "Train Epoch 69/100: 100%|██████████| 391/391 [00:23<00:00, 16.39it/s, loss=0.00465, top1=0.814, top5=0.974]\n",
      "Val Epoch 69/100: 100%|██████████| 79/79 [00:01<00:00, 49.06it/s, loss=0.0177, top1=0.531, top5=0.807]\n",
      "Train Epoch 70/100:   0%|          | 0/391 [00:00<?, ?it/s]"
     ]
    },
    {
     "name": "stdout",
     "output_type": "stream",
     "text": [
      "\u001b[33mStart epoch 70\n",
      "\u001b[0m"
     ]
    },
    {
     "name": "stderr",
     "output_type": "stream",
     "text": [
      "Train Epoch 70/100: 100%|██████████| 391/391 [00:23<00:00, 16.86it/s, loss=0.00459, top1=0.814, top5=0.975]\n",
      "Val Epoch 70/100: 100%|██████████| 79/79 [00:01<00:00, 49.21it/s, loss=0.0173, top1=0.536, top5=0.809]\n",
      "Train Epoch 71/100:   0%|          | 0/391 [00:00<?, ?it/s]"
     ]
    },
    {
     "name": "stdout",
     "output_type": "stream",
     "text": [
      "\u001b[33mStart epoch 71\n",
      "\u001b[0m"
     ]
    },
    {
     "name": "stderr",
     "output_type": "stream",
     "text": [
      "Train Epoch 71/100: 100%|██████████| 391/391 [00:23<00:00, 16.87it/s, loss=0.00456, top1=0.815, top5=0.975]\n",
      "Val Epoch 71/100: 100%|██████████| 79/79 [00:01<00:00, 49.89it/s, loss=0.0175, top1=0.535, top5=0.81] \n",
      "Train Epoch 72/100:   0%|          | 0/391 [00:00<?, ?it/s]"
     ]
    },
    {
     "name": "stdout",
     "output_type": "stream",
     "text": [
      "\u001b[33mStart epoch 72\n",
      "\u001b[0m"
     ]
    },
    {
     "name": "stderr",
     "output_type": "stream",
     "text": [
      "Train Epoch 72/100: 100%|██████████| 391/391 [00:23<00:00, 16.76it/s, loss=0.00448, top1=0.818, top5=0.976]\n",
      "Val Epoch 72/100: 100%|██████████| 79/79 [00:01<00:00, 49.71it/s, loss=0.0174, top1=0.533, top5=0.811]\n",
      "Train Epoch 73/100:   0%|          | 0/391 [00:00<?, ?it/s]"
     ]
    },
    {
     "name": "stdout",
     "output_type": "stream",
     "text": [
      "\u001b[33mStart epoch 73\n",
      "\u001b[0m"
     ]
    },
    {
     "name": "stderr",
     "output_type": "stream",
     "text": [
      "Train Epoch 73/100: 100%|██████████| 391/391 [00:23<00:00, 16.54it/s, loss=0.00451, top1=0.819, top5=0.977]\n",
      "Val Epoch 73/100: 100%|██████████| 79/79 [00:01<00:00, 51.42it/s, loss=0.017, top1=0.549, top5=0.815] \n",
      "Train Epoch 74/100:   0%|          | 0/391 [00:00<?, ?it/s]"
     ]
    },
    {
     "name": "stdout",
     "output_type": "stream",
     "text": [
      "\u001b[33mStart epoch 74\n",
      "\u001b[0m"
     ]
    },
    {
     "name": "stderr",
     "output_type": "stream",
     "text": [
      "Train Epoch 74/100: 100%|██████████| 391/391 [00:23<00:00, 16.66it/s, loss=0.00435, top1=0.824, top5=0.978]\n",
      "Val Epoch 74/100: 100%|██████████| 79/79 [00:01<00:00, 50.37it/s, loss=0.0176, top1=0.539, top5=0.811]\n",
      "Train Epoch 75/100:   0%|          | 0/391 [00:00<?, ?it/s]"
     ]
    },
    {
     "name": "stdout",
     "output_type": "stream",
     "text": [
      "\u001b[33mStart epoch 75\n",
      "\u001b[0m"
     ]
    },
    {
     "name": "stderr",
     "output_type": "stream",
     "text": [
      "Train Epoch 75/100: 100%|██████████| 391/391 [00:23<00:00, 16.72it/s, loss=0.00432, top1=0.826, top5=0.978]\n",
      "Val Epoch 75/100: 100%|██████████| 79/79 [00:01<00:00, 49.89it/s, loss=0.0175, top1=0.536, top5=0.81] \n",
      "Train Epoch 76/100:   0%|          | 0/391 [00:00<?, ?it/s]"
     ]
    },
    {
     "name": "stdout",
     "output_type": "stream",
     "text": [
      "\u001b[33mStart epoch 76\n",
      "\u001b[0m"
     ]
    },
    {
     "name": "stderr",
     "output_type": "stream",
     "text": [
      "Train Epoch 76/100: 100%|██████████| 391/391 [00:23<00:00, 16.65it/s, loss=0.00428, top1=0.828, top5=0.979]\n",
      "Val Epoch 76/100: 100%|██████████| 79/79 [00:01<00:00, 53.16it/s, loss=0.0176, top1=0.54, top5=0.807] \n",
      "Train Epoch 77/100:   0%|          | 0/391 [00:00<?, ?it/s]"
     ]
    },
    {
     "name": "stdout",
     "output_type": "stream",
     "text": [
      "\u001b[33mStart epoch 77\n",
      "\u001b[0m"
     ]
    },
    {
     "name": "stderr",
     "output_type": "stream",
     "text": [
      "Train Epoch 77/100: 100%|██████████| 391/391 [00:23<00:00, 16.71it/s, loss=0.00432, top1=0.824, top5=0.978]\n",
      "Val Epoch 77/100: 100%|██████████| 79/79 [00:01<00:00, 48.94it/s, loss=0.0173, top1=0.54, top5=0.814] \n",
      "Train Epoch 78/100:   0%|          | 0/391 [00:00<?, ?it/s]"
     ]
    },
    {
     "name": "stdout",
     "output_type": "stream",
     "text": [
      "\u001b[33mStart epoch 78\n",
      "\u001b[0m"
     ]
    },
    {
     "name": "stderr",
     "output_type": "stream",
     "text": [
      "Train Epoch 78/100: 100%|██████████| 391/391 [00:23<00:00, 16.77it/s, loss=0.00423, top1=0.827, top5=0.978]\n",
      "Val Epoch 78/100: 100%|██████████| 79/79 [00:01<00:00, 49.29it/s, loss=0.0177, top1=0.532, top5=0.804]\n",
      "Train Epoch 79/100:   0%|          | 0/391 [00:00<?, ?it/s]"
     ]
    },
    {
     "name": "stdout",
     "output_type": "stream",
     "text": [
      "\u001b[33mStart epoch 79\n",
      "\u001b[0m"
     ]
    },
    {
     "name": "stderr",
     "output_type": "stream",
     "text": [
      "Train Epoch 79/100: 100%|██████████| 391/391 [00:23<00:00, 16.75it/s, loss=0.00416, top1=0.831, top5=0.98] \n",
      "Val Epoch 79/100: 100%|██████████| 79/79 [00:01<00:00, 49.58it/s, loss=0.0182, top1=0.535, top5=0.806]\n",
      "Train Epoch 80/100:   0%|          | 0/391 [00:00<?, ?it/s]"
     ]
    },
    {
     "name": "stdout",
     "output_type": "stream",
     "text": [
      "\u001b[33mStart epoch 80\n",
      "\u001b[0m"
     ]
    },
    {
     "name": "stderr",
     "output_type": "stream",
     "text": [
      "Train Epoch 80/100: 100%|██████████| 391/391 [00:23<00:00, 16.70it/s, loss=0.00414, top1=0.832, top5=0.98] \n",
      "Val Epoch 80/100: 100%|██████████| 79/79 [00:01<00:00, 53.07it/s, loss=0.0178, top1=0.54, top5=0.81]  \n",
      "Train Epoch 81/100:   0%|          | 0/391 [00:00<?, ?it/s]"
     ]
    },
    {
     "name": "stdout",
     "output_type": "stream",
     "text": [
      "\u001b[33mStart epoch 81\n",
      "\u001b[0m"
     ]
    },
    {
     "name": "stderr",
     "output_type": "stream",
     "text": [
      "Train Epoch 81/100: 100%|██████████| 391/391 [00:23<00:00, 16.78it/s, loss=0.00409, top1=0.834, top5=0.981]\n",
      "Val Epoch 81/100: 100%|██████████| 79/79 [00:01<00:00, 50.09it/s, loss=0.0185, top1=0.53, top5=0.804] \n",
      "Train Epoch 82/100:   0%|          | 0/391 [00:00<?, ?it/s]"
     ]
    },
    {
     "name": "stdout",
     "output_type": "stream",
     "text": [
      "\u001b[33mStart epoch 82\n",
      "\u001b[0m"
     ]
    },
    {
     "name": "stderr",
     "output_type": "stream",
     "text": [
      "Train Epoch 82/100: 100%|██████████| 391/391 [00:23<00:00, 16.49it/s, loss=0.00409, top1=0.834, top5=0.98] \n",
      "Val Epoch 82/100: 100%|██████████| 79/79 [00:01<00:00, 49.53it/s, loss=0.0177, top1=0.536, top5=0.812]\n",
      "Train Epoch 83/100:   0%|          | 0/391 [00:00<?, ?it/s]"
     ]
    },
    {
     "name": "stdout",
     "output_type": "stream",
     "text": [
      "\u001b[33mStart epoch 83\n",
      "\u001b[0m"
     ]
    },
    {
     "name": "stderr",
     "output_type": "stream",
     "text": [
      "Train Epoch 83/100: 100%|██████████| 391/391 [00:23<00:00, 16.78it/s, loss=0.00401, top1=0.837, top5=0.981]\n",
      "Val Epoch 83/100: 100%|██████████| 79/79 [00:01<00:00, 49.62it/s, loss=0.0171, top1=0.55, top5=0.812] \n",
      "Train Epoch 84/100:   0%|          | 0/391 [00:00<?, ?it/s]"
     ]
    },
    {
     "name": "stdout",
     "output_type": "stream",
     "text": [
      "\u001b[33mStart epoch 84\n",
      "\u001b[0m"
     ]
    },
    {
     "name": "stderr",
     "output_type": "stream",
     "text": [
      "Train Epoch 84/100: 100%|██████████| 391/391 [00:23<00:00, 16.75it/s, loss=0.00395, top1=0.839, top5=0.982]\n",
      "Val Epoch 84/100: 100%|██████████| 79/79 [00:01<00:00, 49.69it/s, loss=0.0176, top1=0.545, top5=0.819]\n",
      "Train Epoch 85/100:   0%|          | 0/391 [00:00<?, ?it/s]"
     ]
    },
    {
     "name": "stdout",
     "output_type": "stream",
     "text": [
      "\u001b[33mStart epoch 85\n",
      "\u001b[0m"
     ]
    },
    {
     "name": "stderr",
     "output_type": "stream",
     "text": [
      "Train Epoch 85/100: 100%|██████████| 391/391 [00:23<00:00, 16.63it/s, loss=0.00395, top1=0.839, top5=0.981]\n",
      "Val Epoch 85/100: 100%|██████████| 79/79 [00:01<00:00, 48.69it/s, loss=0.0181, top1=0.532, top5=0.815]\n",
      "Train Epoch 86/100:   0%|          | 0/391 [00:00<?, ?it/s]"
     ]
    },
    {
     "name": "stdout",
     "output_type": "stream",
     "text": [
      "\u001b[33mStart epoch 86\n",
      "\u001b[0m"
     ]
    },
    {
     "name": "stderr",
     "output_type": "stream",
     "text": [
      "Train Epoch 86/100: 100%|██████████| 391/391 [00:23<00:00, 16.52it/s, loss=0.00387, top1=0.843, top5=0.982]\n",
      "Val Epoch 86/100: 100%|██████████| 79/79 [00:01<00:00, 49.51it/s, loss=0.0183, top1=0.539, top5=0.807]\n",
      "Train Epoch 87/100:   0%|          | 0/391 [00:00<?, ?it/s]"
     ]
    },
    {
     "name": "stdout",
     "output_type": "stream",
     "text": [
      "\u001b[33mStart epoch 87\n",
      "\u001b[0m"
     ]
    },
    {
     "name": "stderr",
     "output_type": "stream",
     "text": [
      "Train Epoch 87/100: 100%|██████████| 391/391 [00:23<00:00, 16.66it/s, loss=0.0039, top1=0.842, top5=0.982] \n",
      "Val Epoch 87/100: 100%|██████████| 79/79 [00:01<00:00, 50.35it/s, loss=0.0193, top1=0.521, top5=0.792]\n",
      "Train Epoch 88/100:   0%|          | 0/391 [00:00<?, ?it/s]"
     ]
    },
    {
     "name": "stdout",
     "output_type": "stream",
     "text": [
      "\u001b[33mStart epoch 88\n",
      "\u001b[0m"
     ]
    },
    {
     "name": "stderr",
     "output_type": "stream",
     "text": [
      "Train Epoch 88/100: 100%|██████████| 391/391 [00:23<00:00, 16.66it/s, loss=0.00381, top1=0.844, top5=0.984]\n",
      "Val Epoch 88/100: 100%|██████████| 79/79 [00:01<00:00, 49.53it/s, loss=0.0179, top1=0.544, top5=0.812]\n",
      "Train Epoch 89/100:   0%|          | 0/391 [00:00<?, ?it/s]"
     ]
    },
    {
     "name": "stdout",
     "output_type": "stream",
     "text": [
      "\u001b[33mStart epoch 89\n",
      "\u001b[0m"
     ]
    },
    {
     "name": "stderr",
     "output_type": "stream",
     "text": [
      "Train Epoch 89/100: 100%|██████████| 391/391 [00:23<00:00, 16.67it/s, loss=0.00374, top1=0.846, top5=0.984]\n",
      "Val Epoch 89/100: 100%|██████████| 79/79 [00:01<00:00, 48.91it/s, loss=0.0181, top1=0.543, top5=0.815]\n",
      "Train Epoch 90/100:   0%|          | 0/391 [00:00<?, ?it/s]"
     ]
    },
    {
     "name": "stdout",
     "output_type": "stream",
     "text": [
      "\u001b[33mStart epoch 90\n",
      "\u001b[0m"
     ]
    },
    {
     "name": "stderr",
     "output_type": "stream",
     "text": [
      "Train Epoch 90/100: 100%|██████████| 391/391 [00:23<00:00, 16.58it/s, loss=0.00372, top1=0.848, top5=0.983]\n",
      "Val Epoch 90/100: 100%|██████████| 79/79 [00:01<00:00, 49.92it/s, loss=0.0186, top1=0.526, top5=0.799]\n",
      "Train Epoch 91/100:   0%|          | 0/391 [00:00<?, ?it/s]"
     ]
    },
    {
     "name": "stdout",
     "output_type": "stream",
     "text": [
      "\u001b[33mStart epoch 91\n",
      "\u001b[0m"
     ]
    },
    {
     "name": "stderr",
     "output_type": "stream",
     "text": [
      "Train Epoch 91/100: 100%|██████████| 391/391 [00:23<00:00, 16.66it/s, loss=0.00368, top1=0.85, top5=0.985] \n",
      "Val Epoch 91/100: 100%|██████████| 79/79 [00:01<00:00, 49.09it/s, loss=0.0181, top1=0.531, top5=0.809]\n",
      "Train Epoch 92/100:   0%|          | 0/391 [00:00<?, ?it/s]"
     ]
    },
    {
     "name": "stdout",
     "output_type": "stream",
     "text": [
      "\u001b[33mStart epoch 92\n",
      "\u001b[0m"
     ]
    },
    {
     "name": "stderr",
     "output_type": "stream",
     "text": [
      "Train Epoch 92/100: 100%|██████████| 391/391 [00:23<00:00, 16.62it/s, loss=0.00365, top1=0.851, top5=0.984]\n",
      "Val Epoch 92/100: 100%|██████████| 79/79 [00:01<00:00, 49.46it/s, loss=0.0182, top1=0.539, top5=0.813]\n",
      "Train Epoch 93/100:   0%|          | 0/391 [00:00<?, ?it/s]"
     ]
    },
    {
     "name": "stdout",
     "output_type": "stream",
     "text": [
      "\u001b[33mStart epoch 93\n",
      "\u001b[0m"
     ]
    },
    {
     "name": "stderr",
     "output_type": "stream",
     "text": [
      "Train Epoch 93/100: 100%|██████████| 391/391 [00:23<00:00, 16.75it/s, loss=0.00363, top1=0.852, top5=0.984]\n",
      "Val Epoch 93/100: 100%|██████████| 79/79 [00:01<00:00, 49.07it/s, loss=0.0178, top1=0.547, top5=0.812]\n",
      "Train Epoch 94/100:   0%|          | 0/391 [00:00<?, ?it/s]"
     ]
    },
    {
     "name": "stdout",
     "output_type": "stream",
     "text": [
      "\u001b[33mStart epoch 94\n",
      "\u001b[0m"
     ]
    },
    {
     "name": "stderr",
     "output_type": "stream",
     "text": [
      "Train Epoch 94/100: 100%|██████████| 391/391 [00:23<00:00, 16.79it/s, loss=0.0036, top1=0.852, top5=0.985] \n",
      "Val Epoch 94/100: 100%|██████████| 79/79 [00:01<00:00, 48.71it/s, loss=0.0196, top1=0.525, top5=0.8]  \n",
      "Train Epoch 95/100:   0%|          | 0/391 [00:00<?, ?it/s]"
     ]
    },
    {
     "name": "stdout",
     "output_type": "stream",
     "text": [
      "\u001b[33mStart epoch 95\n",
      "\u001b[0m"
     ]
    },
    {
     "name": "stderr",
     "output_type": "stream",
     "text": [
      "Train Epoch 95/100: 100%|██████████| 391/391 [00:23<00:00, 16.79it/s, loss=0.00351, top1=0.855, top5=0.986]\n",
      "Val Epoch 95/100: 100%|██████████| 79/79 [00:01<00:00, 49.12it/s, loss=0.0182, top1=0.542, top5=0.815]\n",
      "Train Epoch 96/100:   0%|          | 0/391 [00:00<?, ?it/s]"
     ]
    },
    {
     "name": "stdout",
     "output_type": "stream",
     "text": [
      "\u001b[33mStart epoch 96\n",
      "\u001b[0m"
     ]
    },
    {
     "name": "stderr",
     "output_type": "stream",
     "text": [
      "Train Epoch 96/100: 100%|██████████| 391/391 [00:23<00:00, 16.70it/s, loss=0.00347, top1=0.857, top5=0.986]\n",
      "Val Epoch 96/100: 100%|██████████| 79/79 [00:01<00:00, 52.12it/s, loss=0.0184, top1=0.539, top5=0.813]\n",
      "Train Epoch 97/100:   0%|          | 0/391 [00:00<?, ?it/s]"
     ]
    },
    {
     "name": "stdout",
     "output_type": "stream",
     "text": [
      "\u001b[33mStart epoch 97\n",
      "\u001b[0m"
     ]
    },
    {
     "name": "stderr",
     "output_type": "stream",
     "text": [
      "Train Epoch 97/100: 100%|██████████| 391/391 [00:23<00:00, 16.83it/s, loss=0.00348, top1=0.857, top5=0.986]\n",
      "Val Epoch 97/100: 100%|██████████| 79/79 [00:01<00:00, 49.61it/s, loss=0.0189, top1=0.534, top5=0.81] \n",
      "Train Epoch 98/100:   0%|          | 0/391 [00:00<?, ?it/s]"
     ]
    },
    {
     "name": "stdout",
     "output_type": "stream",
     "text": [
      "\u001b[33mStart epoch 98\n",
      "\u001b[0m"
     ]
    },
    {
     "name": "stderr",
     "output_type": "stream",
     "text": [
      "Train Epoch 98/100: 100%|██████████| 391/391 [00:23<00:00, 16.74it/s, loss=0.00341, top1=0.861, top5=0.987]\n",
      "Val Epoch 98/100: 100%|██████████| 79/79 [00:01<00:00, 49.78it/s, loss=0.0189, top1=0.537, top5=0.81] \n",
      "Train Epoch 99/100:   0%|          | 0/391 [00:00<?, ?it/s]"
     ]
    },
    {
     "name": "stdout",
     "output_type": "stream",
     "text": [
      "\u001b[33mStart epoch 99\n",
      "\u001b[0m"
     ]
    },
    {
     "name": "stderr",
     "output_type": "stream",
     "text": [
      "Train Epoch 99/100: 100%|██████████| 391/391 [00:23<00:00, 16.79it/s, loss=0.0034, top1=0.86, top5=0.987]  \n",
      "Val Epoch 99/100: 100%|██████████| 79/79 [00:01<00:00, 49.67it/s, loss=0.019, top1=0.535, top5=0.807] \n"
     ]
    }
   ],
   "source": [
    "import pathlib\n",
    "import pydantic.json\n",
    "\n",
    "pydantic.json.ENCODERS_BY_TYPE[pathlib.PosixPath] = str\n",
    "pydantic.json.ENCODERS_BY_TYPE[pathlib.WindowsPath] = str\n",
    "\n",
    "\n",
    "resnet_version = 'resnet110_100'\n",
    "model_path = '/home/hongky/project/model_compress/shrinkbench/pretrained/cifar100'\n",
    "data_set = 'CIFAR100'\n",
    "\n",
    "from experiment import TrainingExperiment\n",
    "run_path = model_path + '/' + resnet_version\n",
    "p = pathlib.Path(run_path)\n",
    "train_exp = TrainingExperiment(\n",
    "                        dataset=data_set, \n",
    "                        model=resnet_version, \n",
    "                        path=run_path, \n",
    "                        pretrained=True,\n",
    "                        train_kwargs={'epochs':100}\n",
    "                        )\n",
    "train_exp.run()\n",
    "\n",
    "\n",
    "import torch \n",
    "save_model_path = model_path+'/'+resnet_version+'/'+resnet_version+'.th'\n",
    "torch.save(train_exp.model.state_dict(), save_model_path)\n",
    "\n",
    "\n",
    "from models.cifar_resnet import ResNet, BasicBlock\n",
    "\n",
    "def load_resnet(filters, num_classes, weight_file):\n",
    "    model = ResNet(BasicBlock, filters, num_classes=num_classes)\n",
    "    weights = torch.load(weight_file) #.state_dict() #['state_dict']\n",
    "    # TODO have a better solution for DataParallel models\n",
    "    # For models trained with nn.DataParallel\n",
    "    if list(weights.keys())[0].startswith('module.'):\n",
    "        weights = {k[len(\"module.\"):]: v for k, v in weights.items()}\n",
    "    model.load_state_dict(weights)\n",
    "    return model\n",
    "\n",
    "\n",
    "# resnet20 = resnet_factory([3, 3, 3], 10, 'resnet20.th')\n",
    "# resnet32 = resnet_factory([5, 5, 5], 10, 'resnet32.th')\n",
    "# resnet44 = resnet_factory([7, 7, 7], 10, 'resnet44.th')\n",
    "# resnet56 = resnet_factory([9, 9, 9], 10, 'resnet56.th')\n",
    "# resnet110 = resnet_factory([18, 18, 18], 10, 'resnet110.th')\n",
    "# resnet1202 = resnet_factory([200, 200, 200], 10, 'resnet1202.th')\n",
    "\n",
    "# resnet20_100 = resnet_factory([3, 3, 3], 100, 'resnet20_100.th')\n",
    "# resnet32_100 = resnet_factory([5, 5, 5], 100, 'resnet32_100.th')\n",
    "# resnet44_100 = resnet_factory([7, 7, 7], 100, 'resnet44_100.th')\n",
    "# resnet56_100 = resnet_factory([9, 9, 9], 100, 'resnet56_100.th')\n",
    "resnet110_100 = load_resnet([18, 18, 18], 100, save_model_path)\n",
    "# resnet1202_100 = resnet_factory([200, 200, 200], 100, 'resnet1202_100.th')\n",
    "\n",
    "resnet110_100.eval()\n",
    "example_inputs = torch.rand(1, 3, 224, 224)\n",
    "model_traced = torch.jit.trace(resnet110_100, example_inputs = example_inputs)\n",
    "model_traced.save(model_path + '/' + resnet_version + '/' + resnet_version + '_traced.pt') "
   ]
  },
  {
   "cell_type": "code",
   "execution_count": 2,
   "metadata": {},
   "outputs": [
    {
     "name": "stdout",
     "output_type": "stream",
     "text": [
      "\u001b[33mRunning {\n",
      "    \"save_freq\": 10,\n",
      "    \"resume_optim\": false,\n",
      "    \"resume\": null,\n",
      "    \"pretrained\": true,\n",
      "    \"debug\": false,\n",
      "    \"train_kwargs\": {\n",
      "        \"optim\": \"SGD\",\n",
      "        \"epochs\": 11,\n",
      "        \"lr\": 0.001\n",
      "    },\n",
      "    \"dl_kwargs\": {\n",
      "        \"batch_size\": 128,\n",
      "        \"pin_memory\": false,\n",
      "        \"num_workers\": 8\n",
      "    },\n",
      "    \"path\": \"/home/hongky/project/model_compress/shrinkbench/jupyter/cifar10/resnet20/results/_LayerMagWeight_64\",\n",
      "    \"seed\": 42,\n",
      "    \"model\": \"resnet20\",\n",
      "    \"dataset\": \"CIFAR10\",\n",
      "    \"strategy\": \"LayerMagWeight\",\n",
      "    \"compression\": 64\n",
      "}\n",
      "\u001b[0m\u001b[95mLogging results to /home/hongky/project/model_compress/shrinkbench/jupyter/cifar10/resnet20/results/_LayerMagWeight_64\n",
      "\u001b[0mType-path:: <class 'str'>\n"
     ]
    },
    {
     "name": "stderr",
     "output_type": "stream",
     "text": [
      "Val Epoch -1/11: 100%|██████████| 79/79 [00:01<00:00, 59.02it/s, loss=0.0283, top1=0.112, top5=0.497]\n",
      "Train Epoch 0/11:   0%|          | 0/391 [00:00<?, ?it/s]"
     ]
    },
    {
     "name": "stdout",
     "output_type": "stream",
     "text": [
      "\u001b[32m{\n",
      "    \"size\": 269722,\n",
      "    \"size_nz\": 4223,\n",
      "    \"compression_ratio\": 63.86976083353066,\n",
      "    \"flops\": 40551040,\n",
      "    \"flops_nz\": 334784.0,\n",
      "    \"theoretical_speedup\": 121.12597973618811,\n",
      "    \"loss\": 0.02833785616521594,\n",
      "    \"val_acc1\": 0.11184731012658224,\n",
      "    \"val_acc5\": 0.49653876582278517\n",
      "}\n",
      "\u001b[0m            module   param        comp   size           shape  prunable\n",
      "0            conv1  weight  107.999999    432   (16, 3, 3, 3)      True\n",
      "1              bn1  weight    1.000000     16           (16,)     False\n",
      "2              bn1    bias    1.000000     16           (16,)     False\n",
      "3   layer1.0.conv1  weight  121.263155   2304  (16, 16, 3, 3)      True\n",
      "4     layer1.0.bn1  weight    1.000000     16           (16,)     False\n",
      "5     layer1.0.bn1    bias    1.000000     16           (16,)     False\n",
      "6   layer1.0.conv2  weight  121.263155   2304  (16, 16, 3, 3)      True\n",
      "7     layer1.0.bn2  weight    1.000000     16           (16,)     False\n",
      "8     layer1.0.bn2    bias    1.000000     16           (16,)     False\n",
      "9   layer1.1.conv1  weight  121.263155   2304  (16, 16, 3, 3)      True\n",
      "10    layer1.1.bn1  weight    1.000000     16           (16,)     False\n",
      "11    layer1.1.bn1    bias    1.000000     16           (16,)     False\n",
      "12  layer1.1.conv2  weight  121.263155   2304  (16, 16, 3, 3)      True\n",
      "13    layer1.1.bn2  weight    1.000000     16           (16,)     False\n",
      "14    layer1.1.bn2    bias    1.000000     16           (16,)     False\n",
      "15  layer1.2.conv1  weight  121.263155   2304  (16, 16, 3, 3)      True\n",
      "16    layer1.2.bn1  weight    1.000000     16           (16,)     False\n",
      "17    layer1.2.bn1    bias    1.000000     16           (16,)     False\n",
      "18  layer1.2.conv2  weight  121.263155   2304  (16, 16, 3, 3)      True\n",
      "19    layer1.2.bn2  weight    1.000000     16           (16,)     False\n",
      "20    layer1.2.bn2    bias    1.000000     16           (16,)     False\n",
      "21  layer2.0.conv1  weight  121.263155   4608  (32, 16, 3, 3)      True\n",
      "22    layer2.0.bn1  weight    1.000000     32           (32,)     False\n",
      "23    layer2.0.bn1    bias    1.000000     32           (32,)     False\n",
      "24  layer2.0.conv2  weight  121.263155   9216  (32, 32, 3, 3)      True\n",
      "25    layer2.0.bn2  weight    1.000000     32           (32,)     False\n",
      "26    layer2.0.bn2    bias    1.000000     32           (32,)     False\n",
      "27  layer2.1.conv1  weight  121.263155   9216  (32, 32, 3, 3)      True\n",
      "28    layer2.1.bn1  weight    1.000000     32           (32,)     False\n",
      "29    layer2.1.bn1    bias    1.000000     32           (32,)     False\n",
      "30  layer2.1.conv2  weight  121.263155   9216  (32, 32, 3, 3)      True\n",
      "31    layer2.1.bn2  weight    1.000000     32           (32,)     False\n",
      "32    layer2.1.bn2    bias    1.000000     32           (32,)     False\n",
      "33  layer2.2.conv1  weight  121.263155   9216  (32, 32, 3, 3)      True\n",
      "34    layer2.2.bn1  weight    1.000000     32           (32,)     False\n",
      "35    layer2.2.bn1    bias    1.000000     32           (32,)     False\n",
      "36  layer2.2.conv2  weight  121.263155   9216  (32, 32, 3, 3)      True\n",
      "37    layer2.2.bn2  weight    1.000000     32           (32,)     False\n",
      "38    layer2.2.bn2    bias    1.000000     32           (32,)     False\n",
      "39  layer3.0.conv1  weight  122.066219  18432  (64, 32, 3, 3)      True\n",
      "40    layer3.0.bn1  weight    1.000000     64           (64,)     False\n",
      "41    layer3.0.bn1    bias    1.000000     64           (64,)     False\n",
      "42  layer3.0.conv2  weight  122.066219  36864  (64, 64, 3, 3)      True\n",
      "43    layer3.0.bn2  weight    1.000000     64           (64,)     False\n",
      "44    layer3.0.bn2    bias    1.000000     64           (64,)     False\n",
      "45  layer3.1.conv1  weight  122.066219  36864  (64, 64, 3, 3)      True\n",
      "46    layer3.1.bn1  weight    1.000000     64           (64,)     False\n",
      "47    layer3.1.bn1    bias    1.000000     64           (64,)     False\n",
      "48  layer3.1.conv2  weight  122.066219  36864  (64, 64, 3, 3)      True\n",
      "49    layer3.1.bn2  weight    1.000000     64           (64,)     False\n",
      "50    layer3.1.bn2    bias    1.000000     64           (64,)     False\n",
      "51  layer3.2.conv1  weight  122.066219  36864  (64, 64, 3, 3)      True\n",
      "52    layer3.2.bn1  weight    1.000000     64           (64,)     False\n",
      "53    layer3.2.bn1    bias    1.000000     64           (64,)     False\n",
      "54  layer3.2.conv2  weight  122.066219  36864  (64, 64, 3, 3)      True\n",
      "55    layer3.2.bn2  weight    1.000000     64           (64,)     False\n",
      "56    layer3.2.bn2    bias    1.000000     64           (64,)     False\n",
      "57          linear  weight    1.000000    640        (10, 64)     False\n",
      "58          linear    bias    1.000000     10           (10,)     False\n",
      "\u001b[33mStart epoch 0\n",
      "\u001b[0m"
     ]
    },
    {
     "name": "stderr",
     "output_type": "stream",
     "text": [
      "Train Epoch 0/11: 100%|██████████| 391/391 [00:09<00:00, 40.60it/s, loss=0.0177, top1=0.148, top5=0.621]\n",
      "Val Epoch 0/11: 100%|██████████| 79/79 [00:01<00:00, 56.35it/s, loss=0.0287, top1=0.108, top5=0.525]\n",
      "Train Epoch 1/11:   0%|          | 0/391 [00:00<?, ?it/s]"
     ]
    },
    {
     "name": "stdout",
     "output_type": "stream",
     "text": [
      "\u001b[33mStart epoch 1\n",
      "\u001b[0m"
     ]
    },
    {
     "name": "stderr",
     "output_type": "stream",
     "text": [
      "Train Epoch 1/11: 100%|██████████| 391/391 [00:09<00:00, 40.76it/s, loss=0.0169, top1=0.203, top5=0.705]\n",
      "Val Epoch 1/11: 100%|██████████| 79/79 [00:01<00:00, 55.33it/s, loss=0.0176, top1=0.164, top5=0.626]\n",
      "Train Epoch 2/11:   0%|          | 0/391 [00:00<?, ?it/s]"
     ]
    },
    {
     "name": "stdout",
     "output_type": "stream",
     "text": [
      "\u001b[33mStart epoch 2\n",
      "\u001b[0m"
     ]
    },
    {
     "name": "stderr",
     "output_type": "stream",
     "text": [
      "Train Epoch 2/11: 100%|██████████| 391/391 [00:09<00:00, 39.77it/s, loss=0.0165, top1=0.226, top5=0.737]\n",
      "Val Epoch 2/11: 100%|██████████| 79/79 [00:01<00:00, 56.29it/s, loss=0.0171, top1=0.192, top5=0.687]\n",
      "Train Epoch 3/11:   0%|          | 0/391 [00:00<?, ?it/s]"
     ]
    },
    {
     "name": "stdout",
     "output_type": "stream",
     "text": [
      "\u001b[33mStart epoch 3\n",
      "\u001b[0m"
     ]
    },
    {
     "name": "stderr",
     "output_type": "stream",
     "text": [
      "Train Epoch 3/11: 100%|██████████| 391/391 [00:09<00:00, 40.60it/s, loss=0.0161, top1=0.244, top5=0.76] \n",
      "Val Epoch 3/11: 100%|██████████| 79/79 [00:01<00:00, 58.39it/s, loss=0.0546, top1=0.099, top5=0.547] \n",
      "Train Epoch 4/11:   0%|          | 0/391 [00:00<?, ?it/s]"
     ]
    },
    {
     "name": "stdout",
     "output_type": "stream",
     "text": [
      "\u001b[33mStart epoch 4\n",
      "\u001b[0m"
     ]
    },
    {
     "name": "stderr",
     "output_type": "stream",
     "text": [
      "Train Epoch 4/11: 100%|██████████| 391/391 [00:09<00:00, 41.27it/s, loss=0.0158, top1=0.258, top5=0.776]\n",
      "Val Epoch 4/11: 100%|██████████| 79/79 [00:01<00:00, 55.29it/s, loss=0.0395, top1=0.103, top5=0.555] \n",
      "Train Epoch 5/11:   0%|          | 0/391 [00:00<?, ?it/s]"
     ]
    },
    {
     "name": "stdout",
     "output_type": "stream",
     "text": [
      "\u001b[33mStart epoch 5\n",
      "\u001b[0m"
     ]
    },
    {
     "name": "stderr",
     "output_type": "stream",
     "text": [
      "Train Epoch 5/11: 100%|██████████| 391/391 [00:09<00:00, 41.15it/s, loss=0.0156, top1=0.271, top5=0.788]\n",
      "Val Epoch 5/11: 100%|██████████| 79/79 [00:01<00:00, 54.69it/s, loss=0.0166, top1=0.229, top5=0.707]\n",
      "Train Epoch 6/11:   0%|          | 0/391 [00:00<?, ?it/s]"
     ]
    },
    {
     "name": "stdout",
     "output_type": "stream",
     "text": [
      "\u001b[33mStart epoch 6\n",
      "\u001b[0m"
     ]
    },
    {
     "name": "stderr",
     "output_type": "stream",
     "text": [
      "Train Epoch 6/11: 100%|██████████| 391/391 [00:09<00:00, 40.82it/s, loss=0.0154, top1=0.277, top5=0.8]  \n",
      "Val Epoch 6/11: 100%|██████████| 79/79 [00:01<00:00, 57.78it/s, loss=0.0288, top1=0.126, top5=0.594]\n",
      "Train Epoch 7/11:   0%|          | 0/391 [00:00<?, ?it/s]"
     ]
    },
    {
     "name": "stdout",
     "output_type": "stream",
     "text": [
      "\u001b[33mStart epoch 7\n",
      "\u001b[0m"
     ]
    },
    {
     "name": "stderr",
     "output_type": "stream",
     "text": [
      "Train Epoch 7/11: 100%|██████████| 391/391 [00:09<00:00, 41.27it/s, loss=0.0151, top1=0.287, top5=0.809]\n",
      "Val Epoch 7/11: 100%|██████████| 79/79 [00:01<00:00, 55.19it/s, loss=0.0437, top1=0.126, top5=0.509]\n",
      "Train Epoch 8/11:   0%|          | 0/391 [00:00<?, ?it/s]"
     ]
    },
    {
     "name": "stdout",
     "output_type": "stream",
     "text": [
      "\u001b[33mStart epoch 8\n",
      "\u001b[0m"
     ]
    },
    {
     "name": "stderr",
     "output_type": "stream",
     "text": [
      "Train Epoch 8/11: 100%|██████████| 391/391 [00:09<00:00, 40.64it/s, loss=0.015, top1=0.294, top5=0.818]\n",
      "Val Epoch 8/11: 100%|██████████| 79/79 [00:01<00:00, 52.93it/s, loss=0.0295, top1=0.123, top5=0.587]\n",
      "Train Epoch 9/11:   0%|          | 0/391 [00:00<?, ?it/s]"
     ]
    },
    {
     "name": "stdout",
     "output_type": "stream",
     "text": [
      "\u001b[33mStart epoch 9\n",
      "\u001b[0m"
     ]
    },
    {
     "name": "stderr",
     "output_type": "stream",
     "text": [
      "Train Epoch 9/11: 100%|██████████| 391/391 [00:09<00:00, 40.18it/s, loss=0.0148, top1=0.3, top5=0.821]  \n",
      "Val Epoch 9/11: 100%|██████████| 79/79 [00:01<00:00, 53.76it/s, loss=0.0313, top1=0.12, top5=0.574] \n",
      "Train Epoch 10/11:   0%|          | 0/391 [00:00<?, ?it/s]"
     ]
    },
    {
     "name": "stdout",
     "output_type": "stream",
     "text": [
      "\u001b[33mStart epoch 10\n",
      "\u001b[0m"
     ]
    },
    {
     "name": "stderr",
     "output_type": "stream",
     "text": [
      "Train Epoch 10/11: 100%|██████████| 391/391 [00:09<00:00, 41.88it/s, loss=0.0147, top1=0.306, top5=0.829]\n",
      "Val Epoch 10/11: 100%|██████████| 79/79 [00:01<00:00, 56.61it/s, loss=0.0157, top1=0.246, top5=0.777]\n"
     ]
    }
   ],
   "source": [
    "from IPython.display import clear_output\n",
    "clear_output()\n",
    "\n",
    "model_path = '/home/hongky/project/model_compress/shrinkbench/jupyter/cifar100/resnet110/results/'\n",
    "os.environ['WEIGHTSPATH'] = '/home/hongky/project/model_compress/shrinkbench/pretrained/cifar10/resnet20/resnet20.th'\n",
    "for strategy in ['RandomPruning', 'GlobalMagWeight', 'LayerMagWeight']:\n",
    "    for  c in [1,2,4,8,16,32,64]:\n",
    "        exp = PruningExperiment(dataset='CIFAR10', \n",
    "                                model='resnet20',\n",
    "                                strategy=strategy,\n",
    "                                compression=c,\n",
    "                                path=model_path + '_' + strategy + '_' + str(c),\n",
    "                                train_kwargs={'epochs':11})\n",
    "        clear_output()\n",
    "        exp.run()"
   ]
  },
  {
   "cell_type": "code",
   "execution_count": 3,
   "metadata": {},
   "outputs": [
    {
     "data": {
      "image/png": "[encoded data removed]",
      "text/plain": [
       "<Figure size 1080x576 with 1 Axes>"
      ]
     },
     "metadata": {
      "needs_background": "light"
     },
     "output_type": "display_data"
    }
   ],
   "source": [
    "from plot import df_from_results, plot_df\n",
    "result_path = '/home/hongky/project/model_compress/shrinkbench/jupyter/cifar10/resnet20/results'\n",
    "df = df_from_results(result_path)\n",
    "plot_df(df, 'compression', 'pre_acc5', markers='strategy', line='--', colors='strategy', suffix=' - pre')\n",
    "plot_df(df, 'compression', 'post_acc5', markers='strategy', fig=False, colors='strategy')"
   ]
  },
  {
   "cell_type": "code",
   "execution_count": 4,
   "metadata": {},
   "outputs": [
    {
     "data": {
      "image/png": "[encoded data removed]",
      "text/plain": [
       "<Figure size 1080x576 with 1 Axes>"
      ]
     },
     "metadata": {
      "needs_background": "light"
     },
     "output_type": "display_data"
    }
   ],
   "source": [
    "from matplotlib import pyplot as plt\n",
    "import numpy as np\n",
    "plot_df(df, 'speedup', 'post_acc5', colors='strategy', markers='strategy')"
   ]
  },
  {
   "cell_type": "code",
   "execution_count": 5,
   "metadata": {},
   "outputs": [
    {
     "name": "stdout",
     "output_type": "stream",
     "text": [
      "Index(['dataset', 'model', 'strategy', 'compression', 'size', 'size_nz',\n",
      "       'real_compression', 'flops', 'flops_nz', 'speedup', 'pre_acc1',\n",
      "       'pre_acc5', 'post_acc1', 'post_acc5', 'seed', 'batch_size', 'epochs',\n",
      "       'optim', 'lr', 'completed_epochs', 'path'],\n",
      "      dtype='object')\n",
      "630\n",
      "           strategy  compression     speedup  post_acc1  pre_acc1\n",
      "3   GlobalMagWeight            1    1.000000   0.765625  0.765625\n",
      "23  GlobalMagWeight            1    1.000000   0.765625  0.765625\n",
      "26  GlobalMagWeight            1    1.000000   0.765625  0.765625\n",
      "29  GlobalMagWeight            1    1.000000   0.765625  0.765625\n",
      "6   GlobalMagWeight            2    1.679140   0.775910  0.469937\n",
      "10  GlobalMagWeight            4    2.734165   0.754747  0.140131\n",
      "1   GlobalMagWeight            8    4.408458   0.702037  0.112243\n",
      "7   GlobalMagWeight           16    7.249542   0.618078  0.096025\n",
      "4   GlobalMagWeight           32   12.749462   0.535305  0.098695\n",
      "13  GlobalMagWeight           64   28.033360   0.374802  0.098991\n",
      "19   LayerMagWeight            1    1.000000   0.765625  0.765625\n",
      "21   LayerMagWeight            1    1.000000   0.765625  0.765625\n",
      "24   LayerMagWeight            1    1.000000   0.765625  0.765625\n",
      "27   LayerMagWeight            1    1.000000   0.765625  0.765625\n",
      "15   LayerMagWeight            2    2.015421   0.769383  0.295886\n",
      "17   LayerMagWeight            4    4.092110   0.720332  0.133604\n",
      "20   LayerMagWeight            8    8.441830   0.556369  0.099090\n",
      "18   LayerMagWeight           16   18.019225   0.473892  0.087421\n",
      "14   LayerMagWeight           32   41.474766   0.410206  0.098200\n",
      "12   LayerMagWeight           64  121.125980   0.246044  0.111847\n",
      "16    RandomPruning            1    1.000000   0.765625  0.765625\n",
      "22    RandomPruning            1    1.000000   0.765625  0.765625\n",
      "25    RandomPruning            1    1.000000   0.765625  0.765625\n",
      "28    RandomPruning            1    1.000000   0.765625  0.765625\n",
      "0     RandomPruning            2    2.009495   0.706290  0.084652\n",
      "5     RandomPruning            4    4.075475   0.618869  0.098892\n",
      "11    RandomPruning            8    8.379311   0.590981  0.101167\n",
      "9     RandomPruning           16   18.044370   0.536491  0.098892\n",
      "8     RandomPruning           32   41.913739   0.487441  0.098892\n",
      "2     RandomPruning           64  129.387380   0.352156  0.098892\n"
     ]
    }
   ],
   "source": [
    "print(df.columns)\n",
    "print(df.size)\n",
    "print(df[['strategy', 'compression', 'speedup', 'post_acc1', 'pre_acc1']])\n"
   ]
  },
  {
   "cell_type": "code",
   "execution_count": 6,
   "metadata": {},
   "outputs": [
    {
     "data": {
      "image/png": "[encoded data removed]",
      "text/plain": [
       "<Figure size 1080x576 with 1 Axes>"
      ]
     },
     "metadata": {
      "needs_background": "light"
     },
     "output_type": "display_data"
    }
   ],
   "source": [
    "df['compression_err'] = (df['real_compression'] - df['compression'])/df['compression']\n",
    "plot_df(df, 'compression', 'compression_err', colors='strategy', markers='strategy')"
   ]
  },
  {
   "cell_type": "code",
   "execution_count": null,
   "metadata": {},
   "outputs": [],
   "source": []
  }
 ],
 "metadata": {
  "kernelspec": {
   "display_name": "Python 3",
   "language": "python",
   "name": "python3"
  },
  "language_info": {
   "codemirror_mode": {
    "name": "ipython",
    "version": 3
   },
   "file_extension": ".py",
   "mimetype": "text/x-python",
   "name": "python",
   "nbconvert_exporter": "python",
   "pygments_lexer": "ipython3",
   "version": "3.6.10"
  }
 },
 "nbformat": 4,
 "nbformat_minor": 4
}
